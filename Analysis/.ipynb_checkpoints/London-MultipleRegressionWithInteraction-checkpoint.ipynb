{
 "cells": [
  {
   "cell_type": "code",
   "execution_count": 503,
   "id": "22035f51",
   "metadata": {},
   "outputs": [],
   "source": [
    "# Importing relevant modules\n",
    "import pandas as pd\n",
    "import numpy as np\n",
    "from matplotlib import pyplot as plt\n",
    "import seaborn as sns\n",
    "import math\n",
    "import duckdb\n",
    "from sklearn.linear_model import LinearRegression\n",
    "import statsmodels.api as sm\n",
    "import scipy"
   ]
  },
  {
   "cell_type": "markdown",
   "id": "ae14e986",
   "metadata": {},
   "source": [
    "# Loading and Cleaning"
   ]
  },
  {
   "cell_type": "code",
   "execution_count": 504,
   "id": "da45503f",
   "metadata": {},
   "outputs": [
    {
     "name": "stdout",
     "output_type": "stream",
     "text": [
      "Index(['lsoa11cd', 'lsoa11nm', 'lsoa11nmw', 'st_areasha', 'st_lengths',\n",
      "       'IMD_Rank', 'IMD_Decile', 'LSOA01NM', 'LADcd', 'LADnm', 'IMDScore',\n",
      "       'IMDRank0', 'IMDDec0', 'IncScore', 'IncRank', 'IncDec', 'EmpScore',\n",
      "       'EmpRank', 'EmpDec', 'EduScore', 'EduRank', 'EduDec', 'HDDScore',\n",
      "       'HDDRank', 'HDDDec', 'CriScore', 'CriRank', 'CriDec', 'BHSScore',\n",
      "       'BHSRank', 'BHSDec', 'EnvScore', 'EnvRank', 'EnvDec', 'IDCScore',\n",
      "       'IDCRank', 'IDCDec', 'IDOScore', 'IDORank', 'IDODec', 'CYPScore',\n",
      "       'CYPRank', 'CYPDec', 'ASScore', 'ASRank', 'ASDec', 'GBScore', 'GBRank',\n",
      "       'GBDec', 'WBScore', 'WBRank', 'WBDec', 'IndScore', 'IndRank', 'IndDec',\n",
      "       'OutScore', 'OutRank', 'OutDec', 'TotPop', 'DepChi', 'Pop16_59',\n",
      "       'Pop60_', 'WorkPop', 'Shape__Are', 'Shape__Len',\n",
      "       'SpatialSeparationAccessibility', 'Gravity_Accessibility',\n",
      "       'Log_SpatialSeparation', 'Log_Gravity', 'Shape_Length', 'Shape_Area',\n",
      "       'ReciprocalSpatialSeparation', 'IMD_Decile2',\n",
      "       'Gravity_Accessibility_Decile', 'Pop_Den'],\n",
      "      dtype='object')\n"
     ]
    }
   ],
   "source": [
    "# Loading Data\n",
    "df = pd.read_csv(\"London.csv\")\n",
    "print(df.columns)"
   ]
  },
  {
   "cell_type": "code",
   "execution_count": 505,
   "id": "5f1e81a8",
   "metadata": {},
   "outputs": [
    {
     "data": {
      "text/html": [
       "<div>\n",
       "<style scoped>\n",
       "    .dataframe tbody tr th:only-of-type {\n",
       "        vertical-align: middle;\n",
       "    }\n",
       "\n",
       "    .dataframe tbody tr th {\n",
       "        vertical-align: top;\n",
       "    }\n",
       "\n",
       "    .dataframe thead th {\n",
       "        text-align: right;\n",
       "    }\n",
       "</style>\n",
       "<table border=\"1\" class=\"dataframe\">\n",
       "  <thead>\n",
       "    <tr style=\"text-align: right;\">\n",
       "      <th></th>\n",
       "      <th>Code</th>\n",
       "      <th>Name</th>\n",
       "      <th>LAD code</th>\n",
       "      <th>Borough</th>\n",
       "      <th>Total Mean Annual Household Income estimate</th>\n",
       "      <th>Total Median Annual Household Income estimate</th>\n",
       "    </tr>\n",
       "  </thead>\n",
       "  <tbody>\n",
       "    <tr>\n",
       "      <th>0</th>\n",
       "      <td>E01000001</td>\n",
       "      <td>City of London 001A</td>\n",
       "      <td>E09000001</td>\n",
       "      <td>City of London</td>\n",
       "      <td>74846.18</td>\n",
       "      <td>58347.32</td>\n",
       "    </tr>\n",
       "    <tr>\n",
       "      <th>1</th>\n",
       "      <td>E01000002</td>\n",
       "      <td>City of London 001B</td>\n",
       "      <td>E09000001</td>\n",
       "      <td>City of London</td>\n",
       "      <td>73325.39</td>\n",
       "      <td>57159.50</td>\n",
       "    </tr>\n",
       "    <tr>\n",
       "      <th>2</th>\n",
       "      <td>E01000003</td>\n",
       "      <td>City of London 001C</td>\n",
       "      <td>E09000001</td>\n",
       "      <td>City of London</td>\n",
       "      <td>44130.31</td>\n",
       "      <td>34386.56</td>\n",
       "    </tr>\n",
       "    <tr>\n",
       "      <th>3</th>\n",
       "      <td>E01000005</td>\n",
       "      <td>City of London 001E</td>\n",
       "      <td>E09000001</td>\n",
       "      <td>City of London</td>\n",
       "      <td>30780.84</td>\n",
       "      <td>23999.85</td>\n",
       "    </tr>\n",
       "    <tr>\n",
       "      <th>4</th>\n",
       "      <td>E01032739</td>\n",
       "      <td>City of London 001F</td>\n",
       "      <td>E09000001</td>\n",
       "      <td>City of London</td>\n",
       "      <td>68021.74</td>\n",
       "      <td>53017.04</td>\n",
       "    </tr>\n",
       "  </tbody>\n",
       "</table>\n",
       "</div>"
      ],
      "text/plain": [
       "        Code                 Name   LAD code         Borough  \\\n",
       "0  E01000001  City of London 001A  E09000001  City of London   \n",
       "1  E01000002  City of London 001B  E09000001  City of London   \n",
       "2  E01000003  City of London 001C  E09000001  City of London   \n",
       "3  E01000005  City of London 001E  E09000001  City of London   \n",
       "4  E01032739  City of London 001F  E09000001  City of London   \n",
       "\n",
       "   Total Mean Annual Household Income estimate  \\\n",
       "0                                     74846.18   \n",
       "1                                     73325.39   \n",
       "2                                     44130.31   \n",
       "3                                     30780.84   \n",
       "4                                     68021.74   \n",
       "\n",
       "   Total Median Annual Household Income estimate  \n",
       "0                                       58347.32  \n",
       "1                                       57159.50  \n",
       "2                                       34386.56  \n",
       "3                                       23999.85  \n",
       "4                                       53017.04  "
      ]
     },
     "execution_count": 505,
     "metadata": {},
     "output_type": "execute_result"
    }
   ],
   "source": [
    "# Loading Income Data\n",
    "income_df = pd.read_csv(\"modelled-household-income-estimates-oa-lsoa-msoa-ward-borough.csv\")\n",
    "income_df.head()"
   ]
  },
  {
   "cell_type": "code",
   "execution_count": 506,
   "id": "a8805a64",
   "metadata": {},
   "outputs": [
    {
     "data": {
      "text/html": [
       "<div>\n",
       "<style scoped>\n",
       "    .dataframe tbody tr th:only-of-type {\n",
       "        vertical-align: middle;\n",
       "    }\n",
       "\n",
       "    .dataframe tbody tr th {\n",
       "        vertical-align: top;\n",
       "    }\n",
       "\n",
       "    .dataframe thead th {\n",
       "        text-align: right;\n",
       "    }\n",
       "</style>\n",
       "<table border=\"1\" class=\"dataframe\">\n",
       "  <thead>\n",
       "    <tr style=\"text-align: right;\">\n",
       "      <th></th>\n",
       "      <th>lsoa11cd</th>\n",
       "      <th>lsoa11nm</th>\n",
       "      <th>IMD</th>\n",
       "      <th>Income_IMD</th>\n",
       "      <th>Accessibility</th>\n",
       "      <th>log_Accessibility</th>\n",
       "      <th>Pop_Den</th>\n",
       "      <th>mean_Income</th>\n",
       "      <th>median_Income</th>\n",
       "    </tr>\n",
       "  </thead>\n",
       "  <tbody>\n",
       "    <tr>\n",
       "      <th>0</th>\n",
       "      <td>E01000816</td>\n",
       "      <td>Bromley 040A</td>\n",
       "      <td>14.081</td>\n",
       "      <td>0.084</td>\n",
       "      <td>0.151895</td>\n",
       "      <td>-1.884566</td>\n",
       "      <td>1917.563663</td>\n",
       "      <td>44130.75</td>\n",
       "      <td>34008.31</td>\n",
       "    </tr>\n",
       "    <tr>\n",
       "      <th>1</th>\n",
       "      <td>E01000818</td>\n",
       "      <td>Bromley 040B</td>\n",
       "      <td>13.454</td>\n",
       "      <td>0.066</td>\n",
       "      <td>0.796410</td>\n",
       "      <td>-0.227641</td>\n",
       "      <td>457.080908</td>\n",
       "      <td>51429.54</td>\n",
       "      <td>39633.12</td>\n",
       "    </tr>\n",
       "    <tr>\n",
       "      <th>2</th>\n",
       "      <td>E01000819</td>\n",
       "      <td>Bromley 040C</td>\n",
       "      <td>26.536</td>\n",
       "      <td>0.194</td>\n",
       "      <td>4.194092</td>\n",
       "      <td>1.433677</td>\n",
       "      <td>1695.616931</td>\n",
       "      <td>36413.83</td>\n",
       "      <td>28064.70</td>\n",
       "    </tr>\n",
       "    <tr>\n",
       "      <th>3</th>\n",
       "      <td>E01000820</td>\n",
       "      <td>Bromley 008C</td>\n",
       "      <td>21.127</td>\n",
       "      <td>0.138</td>\n",
       "      <td>4.019887</td>\n",
       "      <td>1.391254</td>\n",
       "      <td>1001.671812</td>\n",
       "      <td>48961.52</td>\n",
       "      <td>37730.45</td>\n",
       "    </tr>\n",
       "    <tr>\n",
       "      <th>4</th>\n",
       "      <td>E01000822</td>\n",
       "      <td>Bromley 008D</td>\n",
       "      <td>13.278</td>\n",
       "      <td>0.102</td>\n",
       "      <td>2.578399</td>\n",
       "      <td>0.947169</td>\n",
       "      <td>3038.684037</td>\n",
       "      <td>46492.50</td>\n",
       "      <td>35827.34</td>\n",
       "    </tr>\n",
       "  </tbody>\n",
       "</table>\n",
       "</div>"
      ],
      "text/plain": [
       "    lsoa11cd      lsoa11nm     IMD  Income_IMD  Accessibility  \\\n",
       "0  E01000816  Bromley 040A  14.081       0.084       0.151895   \n",
       "1  E01000818  Bromley 040B  13.454       0.066       0.796410   \n",
       "2  E01000819  Bromley 040C  26.536       0.194       4.194092   \n",
       "3  E01000820  Bromley 008C  21.127       0.138       4.019887   \n",
       "4  E01000822  Bromley 008D  13.278       0.102       2.578399   \n",
       "\n",
       "   log_Accessibility      Pop_Den  mean_Income  median_Income  \n",
       "0          -1.884566  1917.563663     44130.75       34008.31  \n",
       "1          -0.227641   457.080908     51429.54       39633.12  \n",
       "2           1.433677  1695.616931     36413.83       28064.70  \n",
       "3           1.391254  1001.671812     48961.52       37730.45  \n",
       "4           0.947169  3038.684037     46492.50       35827.34  "
      ]
     },
     "execution_count": 506,
     "metadata": {},
     "output_type": "execute_result"
    }
   ],
   "source": [
    "# Joining\n",
    "df = duckdb.sql(\"\"\"SELECT lsoa11cd, lsoa11nm,\n",
    "                        IMDScore AS IMD, IncScore As Income_IMD,\n",
    "                        Gravity_Accessibility AS Accessibility, \n",
    "                        Log_Gravity AS log_Accessibility,\n",
    "                        Pop_Den, \n",
    "                        \"Total Mean Annual Household Income estimate\" AS mean_Income,\n",
    "                        \"Total Median Annual Household Income estimate\" AS median_Income\n",
    "                    FROM df LEFT JOIN income_df\n",
    "                    ON df.lsoa11cd = income_df.Code\n",
    "                    \"\"\").df()\n",
    "df.head()"
   ]
  },
  {
   "cell_type": "markdown",
   "id": "d2c2f38c",
   "metadata": {},
   "source": [
    "# Applying Transformations"
   ]
  },
  {
   "cell_type": "code",
   "execution_count": 507,
   "id": "c7662b19",
   "metadata": {},
   "outputs": [
    {
     "data": {
      "text/html": [
       "<div>\n",
       "<style scoped>\n",
       "    .dataframe tbody tr th:only-of-type {\n",
       "        vertical-align: middle;\n",
       "    }\n",
       "\n",
       "    .dataframe tbody tr th {\n",
       "        vertical-align: top;\n",
       "    }\n",
       "\n",
       "    .dataframe thead th {\n",
       "        text-align: right;\n",
       "    }\n",
       "</style>\n",
       "<table border=\"1\" class=\"dataframe\">\n",
       "  <thead>\n",
       "    <tr style=\"text-align: right;\">\n",
       "      <th></th>\n",
       "      <th>lsoa11cd</th>\n",
       "      <th>lsoa11nm</th>\n",
       "      <th>IMD</th>\n",
       "      <th>Income_IMD</th>\n",
       "      <th>Accessibility</th>\n",
       "      <th>log_Accessibility</th>\n",
       "      <th>Pop_Den</th>\n",
       "      <th>mean_Income</th>\n",
       "      <th>median_Income</th>\n",
       "      <th>sqrt_IMD</th>\n",
       "      <th>sqrt_Income_IMD</th>\n",
       "      <th>log_median_Income</th>\n",
       "      <th>log_mean_Income</th>\n",
       "      <th>cbrt_Pop_Den</th>\n",
       "    </tr>\n",
       "  </thead>\n",
       "  <tbody>\n",
       "    <tr>\n",
       "      <th>0</th>\n",
       "      <td>E01000816</td>\n",
       "      <td>Bromley 040A</td>\n",
       "      <td>14.081</td>\n",
       "      <td>0.084</td>\n",
       "      <td>0.151895</td>\n",
       "      <td>-1.884566</td>\n",
       "      <td>1917.563663</td>\n",
       "      <td>44130.75</td>\n",
       "      <td>34008.31</td>\n",
       "      <td>3.752466</td>\n",
       "      <td>0.289828</td>\n",
       "      <td>10.434360</td>\n",
       "      <td>10.694912</td>\n",
       "      <td>12.423671</td>\n",
       "    </tr>\n",
       "    <tr>\n",
       "      <th>1</th>\n",
       "      <td>E01000818</td>\n",
       "      <td>Bromley 040B</td>\n",
       "      <td>13.454</td>\n",
       "      <td>0.066</td>\n",
       "      <td>0.796410</td>\n",
       "      <td>-0.227641</td>\n",
       "      <td>457.080908</td>\n",
       "      <td>51429.54</td>\n",
       "      <td>39633.12</td>\n",
       "      <td>3.667969</td>\n",
       "      <td>0.256905</td>\n",
       "      <td>10.587420</td>\n",
       "      <td>10.847968</td>\n",
       "      <td>7.703079</td>\n",
       "    </tr>\n",
       "    <tr>\n",
       "      <th>2</th>\n",
       "      <td>E01000819</td>\n",
       "      <td>Bromley 040C</td>\n",
       "      <td>26.536</td>\n",
       "      <td>0.194</td>\n",
       "      <td>4.194092</td>\n",
       "      <td>1.433677</td>\n",
       "      <td>1695.616931</td>\n",
       "      <td>36413.83</td>\n",
       "      <td>28064.70</td>\n",
       "      <td>5.151311</td>\n",
       "      <td>0.440454</td>\n",
       "      <td>10.242268</td>\n",
       "      <td>10.502704</td>\n",
       "      <td>11.924566</td>\n",
       "    </tr>\n",
       "    <tr>\n",
       "      <th>3</th>\n",
       "      <td>E01000820</td>\n",
       "      <td>Bromley 008C</td>\n",
       "      <td>21.127</td>\n",
       "      <td>0.138</td>\n",
       "      <td>4.019887</td>\n",
       "      <td>1.391254</td>\n",
       "      <td>1001.671812</td>\n",
       "      <td>48961.52</td>\n",
       "      <td>37730.45</td>\n",
       "      <td>4.596412</td>\n",
       "      <td>0.371484</td>\n",
       "      <td>10.538223</td>\n",
       "      <td>10.798790</td>\n",
       "      <td>10.005570</td>\n",
       "    </tr>\n",
       "    <tr>\n",
       "      <th>4</th>\n",
       "      <td>E01000822</td>\n",
       "      <td>Bromley 008D</td>\n",
       "      <td>13.278</td>\n",
       "      <td>0.102</td>\n",
       "      <td>2.578399</td>\n",
       "      <td>0.947169</td>\n",
       "      <td>3038.684037</td>\n",
       "      <td>46492.50</td>\n",
       "      <td>35827.34</td>\n",
       "      <td>3.643899</td>\n",
       "      <td>0.319374</td>\n",
       "      <td>10.486467</td>\n",
       "      <td>10.747046</td>\n",
       "      <td>14.484222</td>\n",
       "    </tr>\n",
       "  </tbody>\n",
       "</table>\n",
       "</div>"
      ],
      "text/plain": [
       "    lsoa11cd      lsoa11nm     IMD  Income_IMD  Accessibility  \\\n",
       "0  E01000816  Bromley 040A  14.081       0.084       0.151895   \n",
       "1  E01000818  Bromley 040B  13.454       0.066       0.796410   \n",
       "2  E01000819  Bromley 040C  26.536       0.194       4.194092   \n",
       "3  E01000820  Bromley 008C  21.127       0.138       4.019887   \n",
       "4  E01000822  Bromley 008D  13.278       0.102       2.578399   \n",
       "\n",
       "   log_Accessibility      Pop_Den  mean_Income  median_Income  sqrt_IMD  \\\n",
       "0          -1.884566  1917.563663     44130.75       34008.31  3.752466   \n",
       "1          -0.227641   457.080908     51429.54       39633.12  3.667969   \n",
       "2           1.433677  1695.616931     36413.83       28064.70  5.151311   \n",
       "3           1.391254  1001.671812     48961.52       37730.45  4.596412   \n",
       "4           0.947169  3038.684037     46492.50       35827.34  3.643899   \n",
       "\n",
       "   sqrt_Income_IMD  log_median_Income  log_mean_Income  cbrt_Pop_Den  \n",
       "0         0.289828          10.434360        10.694912     12.423671  \n",
       "1         0.256905          10.587420        10.847968      7.703079  \n",
       "2         0.440454          10.242268        10.502704     11.924566  \n",
       "3         0.371484          10.538223        10.798790     10.005570  \n",
       "4         0.319374          10.486467        10.747046     14.484222  "
      ]
     },
     "execution_count": 507,
     "metadata": {},
     "output_type": "execute_result"
    }
   ],
   "source": [
    "df['sqrt_IMD']=np.sqrt(df['IMD'])\n",
    "df['sqrt_Income_IMD']=np.sqrt(df['Income_IMD'])\n",
    "df['log_median_Income']=np.log(df['median_Income'])\n",
    "df['log_mean_Income']=np.log(df['mean_Income'])\n",
    "df['cbrt_Pop_Den']=np.cbrt(df['Pop_Den'])\n",
    "\n",
    "df.head()"
   ]
  },
  {
   "cell_type": "code",
   "execution_count": 508,
   "id": "ee386f5c",
   "metadata": {},
   "outputs": [
    {
     "name": "stdout",
     "output_type": "stream",
     "text": [
      "Skewness: [37.4429825  0.3019261]\n"
     ]
    },
    {
     "data": {
      "image/png": "[encoded data removed]",
      "text/plain": [
       "<Figure size 640x480 with 2 Axes>"
      ]
     },
     "metadata": {},
     "output_type": "display_data"
    }
   ],
   "source": [
    "df[['Accessibility','log_Accessibility']].hist()\n",
    "print(\"Skewness:\", scipy.stats.skew(df[['Accessibility','log_Accessibility']]))"
   ]
  },
  {
   "cell_type": "code",
   "execution_count": 509,
   "id": "31cb07db",
   "metadata": {},
   "outputs": [
    {
     "name": "stdout",
     "output_type": "stream",
     "text": [
      "Skewness: [ 1.69791464 -0.06526096]\n"
     ]
    },
    {
     "data": {
      "image/png": "[encoded data removed]",
      "text/plain": [
       "<Figure size 640x480 with 2 Axes>"
      ]
     },
     "metadata": {},
     "output_type": "display_data"
    }
   ],
   "source": [
    "df[['Pop_Den','cbrt_Pop_Den']].hist()\n",
    "print(\"Skewness:\", scipy.stats.skew(df[['Pop_Den','cbrt_Pop_Den']]))"
   ]
  },
  {
   "cell_type": "code",
   "execution_count": 510,
   "id": "0a40fe74",
   "metadata": {},
   "outputs": [
    {
     "name": "stdout",
     "output_type": "stream",
     "text": [
      "Skewness: [ 0.39549068 -0.08250322]\n"
     ]
    },
    {
     "data": {
      "image/png": "[encoded data removed]",
      "text/plain": [
       "<Figure size 640x480 with 2 Axes>"
      ]
     },
     "metadata": {},
     "output_type": "display_data"
    }
   ],
   "source": [
    "df[['IMD','sqrt_IMD']].hist()\n",
    "print(\"Skewness:\", scipy.stats.skew(df[['IMD','sqrt_IMD']]))"
   ]
  },
  {
   "cell_type": "code",
   "execution_count": 511,
   "id": "cdede0a7",
   "metadata": {},
   "outputs": [
    {
     "name": "stdout",
     "output_type": "stream",
     "text": [
      "Skewness: [ 0.52844922 -0.04618401]\n"
     ]
    },
    {
     "data": {
      "image/png": "[encoded data removed]",
      "text/plain": [
       "<Figure size 640x480 with 2 Axes>"
      ]
     },
     "metadata": {},
     "output_type": "display_data"
    }
   ],
   "source": [
    "df[['Income_IMD','sqrt_Income_IMD']].hist()\n",
    "print(\"Skewness:\", scipy.stats.skew(df[['Income_IMD','sqrt_Income_IMD']]))"
   ]
  },
  {
   "cell_type": "code",
   "execution_count": 512,
   "id": "32c666a6",
   "metadata": {},
   "outputs": [
    {
     "name": "stdout",
     "output_type": "stream",
     "text": [
      "Skewness: [1.35584375 0.55774205 1.09711873 0.46086883]\n"
     ]
    },
    {
     "data": {
      "image/png": "[encoded data removed]",
      "text/plain": [
       "<Figure size 640x480 with 4 Axes>"
      ]
     },
     "metadata": {},
     "output_type": "display_data"
    }
   ],
   "source": [
    "df[['mean_Income','log_mean_Income','median_Income','log_median_Income']].hist()\n",
    "print(\"Skewness:\", scipy.stats.skew(df[['mean_Income','log_mean_Income','median_Income','log_median_Income']]))"
   ]
  },
  {
   "cell_type": "markdown",
   "id": "e5e285ca",
   "metadata": {},
   "source": [
    "# Regression Model"
   ]
  },
  {
   "cell_type": "code",
   "execution_count": 513,
   "id": "46dd8374",
   "metadata": {},
   "outputs": [
    {
     "data": {
      "text/html": [
       "<div>\n",
       "<style scoped>\n",
       "    .dataframe tbody tr th:only-of-type {\n",
       "        vertical-align: middle;\n",
       "    }\n",
       "\n",
       "    .dataframe tbody tr th {\n",
       "        vertical-align: top;\n",
       "    }\n",
       "\n",
       "    .dataframe thead th {\n",
       "        text-align: right;\n",
       "    }\n",
       "</style>\n",
       "<table border=\"1\" class=\"dataframe\">\n",
       "  <thead>\n",
       "    <tr style=\"text-align: right;\">\n",
       "      <th></th>\n",
       "      <th>log_Accessibility</th>\n",
       "      <th>cbrt_Pop_Den</th>\n",
       "      <th>IMD</th>\n",
       "    </tr>\n",
       "  </thead>\n",
       "  <tbody>\n",
       "    <tr>\n",
       "      <th>log_Accessibility</th>\n",
       "      <td>1.000000</td>\n",
       "      <td>-0.009102</td>\n",
       "      <td>0.056580</td>\n",
       "    </tr>\n",
       "    <tr>\n",
       "      <th>cbrt_Pop_Den</th>\n",
       "      <td>-0.009102</td>\n",
       "      <td>1.000000</td>\n",
       "      <td>0.328454</td>\n",
       "    </tr>\n",
       "    <tr>\n",
       "      <th>IMD</th>\n",
       "      <td>0.056580</td>\n",
       "      <td>0.328454</td>\n",
       "      <td>1.000000</td>\n",
       "    </tr>\n",
       "  </tbody>\n",
       "</table>\n",
       "</div>"
      ],
      "text/plain": [
       "                   log_Accessibility  cbrt_Pop_Den       IMD\n",
       "log_Accessibility           1.000000     -0.009102  0.056580\n",
       "cbrt_Pop_Den               -0.009102      1.000000  0.328454\n",
       "IMD                         0.056580      0.328454  1.000000"
      ]
     },
     "execution_count": 513,
     "metadata": {},
     "output_type": "execute_result"
    }
   ],
   "source": [
    "df[['log_Accessibility','cbrt_Pop_Den', 'IMD']].corr()"
   ]
  },
  {
   "cell_type": "code",
   "execution_count": 514,
   "id": "6127b2fe",
   "metadata": {},
   "outputs": [],
   "source": [
    "# Mean centering\n",
    "df['log_Accessibility_mean_centered'] = df['log_Accessibility'] - df['log_Accessibility'].mean()\n",
    "df['cbrt_Pop_Den_mean_centered'] = df['cbrt_Pop_Den'] - df['cbrt_Pop_Den'].mean()"
   ]
  },
  {
   "cell_type": "code",
   "execution_count": 515,
   "id": "6b1c2e64",
   "metadata": {},
   "outputs": [],
   "source": [
    "# Interaction term\n",
    "df['interaction']=df['log_Accessibility_mean_centered']*df['cbrt_Pop_Den_mean_centered']"
   ]
  },
  {
   "cell_type": "code",
   "execution_count": 516,
   "id": "ab18dcb5",
   "metadata": {},
   "outputs": [
    {
     "data": {
      "text/html": [
       "<div>\n",
       "<style scoped>\n",
       "    .dataframe tbody tr th:only-of-type {\n",
       "        vertical-align: middle;\n",
       "    }\n",
       "\n",
       "    .dataframe tbody tr th {\n",
       "        vertical-align: top;\n",
       "    }\n",
       "\n",
       "    .dataframe thead th {\n",
       "        text-align: right;\n",
       "    }\n",
       "</style>\n",
       "<table border=\"1\" class=\"dataframe\">\n",
       "  <thead>\n",
       "    <tr style=\"text-align: right;\">\n",
       "      <th></th>\n",
       "      <th>log_Accessibility_mean_centered</th>\n",
       "      <th>cbrt_Pop_Den_mean_centered</th>\n",
       "      <th>interaction</th>\n",
       "      <th>sqrt_IMD</th>\n",
       "    </tr>\n",
       "  </thead>\n",
       "  <tbody>\n",
       "    <tr>\n",
       "      <th>log_Accessibility_mean_centered</th>\n",
       "      <td>1.000000</td>\n",
       "      <td>-0.009102</td>\n",
       "      <td>-0.128735</td>\n",
       "      <td>0.071422</td>\n",
       "    </tr>\n",
       "    <tr>\n",
       "      <th>cbrt_Pop_Den_mean_centered</th>\n",
       "      <td>-0.009102</td>\n",
       "      <td>1.000000</td>\n",
       "      <td>0.106490</td>\n",
       "      <td>0.342775</td>\n",
       "    </tr>\n",
       "    <tr>\n",
       "      <th>interaction</th>\n",
       "      <td>-0.128735</td>\n",
       "      <td>0.106490</td>\n",
       "      <td>1.000000</td>\n",
       "      <td>-0.138936</td>\n",
       "    </tr>\n",
       "    <tr>\n",
       "      <th>sqrt_IMD</th>\n",
       "      <td>0.071422</td>\n",
       "      <td>0.342775</td>\n",
       "      <td>-0.138936</td>\n",
       "      <td>1.000000</td>\n",
       "    </tr>\n",
       "  </tbody>\n",
       "</table>\n",
       "</div>"
      ],
      "text/plain": [
       "                                 log_Accessibility_mean_centered  \\\n",
       "log_Accessibility_mean_centered                         1.000000   \n",
       "cbrt_Pop_Den_mean_centered                             -0.009102   \n",
       "interaction                                            -0.128735   \n",
       "sqrt_IMD                                                0.071422   \n",
       "\n",
       "                                 cbrt_Pop_Den_mean_centered  interaction  \\\n",
       "log_Accessibility_mean_centered                   -0.009102    -0.128735   \n",
       "cbrt_Pop_Den_mean_centered                         1.000000     0.106490   \n",
       "interaction                                        0.106490     1.000000   \n",
       "sqrt_IMD                                           0.342775    -0.138936   \n",
       "\n",
       "                                 sqrt_IMD  \n",
       "log_Accessibility_mean_centered  0.071422  \n",
       "cbrt_Pop_Den_mean_centered       0.342775  \n",
       "interaction                     -0.138936  \n",
       "sqrt_IMD                         1.000000  "
      ]
     },
     "execution_count": 516,
     "metadata": {},
     "output_type": "execute_result"
    }
   ],
   "source": [
    "df[['log_Accessibility_mean_centered','cbrt_Pop_Den_mean_centered', 'interaction', 'sqrt_IMD']].corr()"
   ]
  },
  {
   "cell_type": "code",
   "execution_count": 517,
   "id": "aec48cc6",
   "metadata": {},
   "outputs": [
    {
     "name": "stdout",
     "output_type": "stream",
     "text": [
      "                            OLS Regression Results                            \n",
      "==============================================================================\n",
      "Dep. Variable:               sqrt_IMD   R-squared:                       0.151\n",
      "Model:                            OLS   Adj. R-squared:                  0.151\n",
      "Method:                 Least Squares   F-statistic:                     286.0\n",
      "Date:                Wed, 04 Oct 2023   Prob (F-statistic):          8.14e-171\n",
      "Time:                        11:19:42   Log-Likelihood:                -7390.0\n",
      "No. Observations:                4814   AIC:                         1.479e+04\n",
      "Df Residuals:                    4810   BIC:                         1.481e+04\n",
      "Df Model:                           3                                         \n",
      "Covariance Type:            nonrobust                                         \n",
      "===================================================================================================\n",
      "                                      coef    std err          t      P>|t|      [0.025      0.975]\n",
      "---------------------------------------------------------------------------------------------------\n",
      "const                               4.4721      0.016    276.133      0.000       4.440       4.504\n",
      "log_Accessibility_mean_centered     0.0441      0.011      3.938      0.000       0.022       0.066\n",
      "cbrt_Pop_Den_mean_centered          0.1282      0.005     27.055      0.000       0.119       0.137\n",
      "interaction                        -0.0413      0.003    -12.667      0.000      -0.048      -0.035\n",
      "==============================================================================\n",
      "Omnibus:                       81.111   Durbin-Watson:                   1.128\n",
      "Prob(Omnibus):                  0.000   Jarque-Bera (JB):               47.082\n",
      "Skew:                           0.049   Prob(JB):                     5.97e-11\n",
      "Kurtosis:                       2.525   Cond. No.                         5.06\n",
      "==============================================================================\n",
      "\n",
      "Notes:\n",
      "[1] Standard Errors assume that the covariance matrix of the errors is correctly specified.\n"
     ]
    }
   ],
   "source": [
    "X = df[['log_Accessibility_mean_centered','cbrt_Pop_Den_mean_centered','interaction']]\n",
    "y = df['sqrt_IMD']\n",
    "X = sm.add_constant(X)\n",
    "\n",
    "sm_model = sm.OLS(y, X)\n",
    "res = sm_model.fit()\n",
    "print(res.summary())"
   ]
  }
 ],
 "metadata": {
  "kernelspec": {
   "display_name": "Python 3 (ipykernel)",
   "language": "python",
   "name": "python3"
  },
  "language_info": {
   "codemirror_mode": {
    "name": "ipython",
    "version": 3
   },
   "file_extension": ".py",
   "mimetype": "text/x-python",
   "name": "python",
   "nbconvert_exporter": "python",
   "pygments_lexer": "ipython3",
   "version": "3.11.4"
  }
 },
 "nbformat": 4,
 "nbformat_minor": 5
}
